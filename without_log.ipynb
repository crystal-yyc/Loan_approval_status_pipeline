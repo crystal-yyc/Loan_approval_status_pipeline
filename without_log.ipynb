{
 "metadata": {
  "language_info": {
   "codemirror_mode": {
    "name": "ipython",
    "version": 3
   },
   "file_extension": ".py",
   "mimetype": "text/x-python",
   "name": "python",
   "nbconvert_exporter": "python",
   "pygments_lexer": "ipython3",
   "version": "3.8.3-final"
  },
  "orig_nbformat": 2,
  "kernelspec": {
   "name": "python36564bit6f77634e2dab4869b7bf6615e97ce046",
   "display_name": "Python 3.6.5 64-bit"
  }
 },
 "nbformat": 4,
 "nbformat_minor": 2,
 "cells": [
  {
   "cell_type": "code",
   "execution_count": 1,
   "metadata": {},
   "outputs": [],
   "source": [
    "import pandas as pd \n",
    "import numpy as np  \n",
    "from sklearn.compose import ColumnTransformer \n",
    "from sklearn.model_selection import GridSearchCV\n",
    "from sklearn.decomposition import PCA\n",
    "from sklearn.pipeline import FeatureUnion\n",
    "from sklearn.impute import SimpleImputer\n",
    "from sklearn.preprocessing import StandardScaler, LabelEncoder, FunctionTransformer, OneHotEncoder\n",
    "\n",
    "from sklearn.ensemble import RandomForestClassifier\n",
    "from sklearn.pipeline import Pipeline\n",
    "from sklearn.feature_selection import SelectKBest\n",
    "from sklearn.model_selection import train_test_split\n",
    "from sklearn.base import BaseEstimator, TransformerMixin\n",
    "from sklearn import metrics"
   ]
  },
  {
   "cell_type": "code",
   "execution_count": 2,
   "metadata": {},
   "outputs": [],
   "source": [
    "df=pd.read_csv('data.csv')\n",
    "y = df['Loan_Status'].apply(lambda x:1 if x=='Y' else 0)\n",
    "X=df.drop(columns=['Loan_Status'])\n",
    "\n",
    "X_train, X_test, y_train, y_test=train_test_split(X, y, test_size=0.2)"
   ]
  },
  {
   "cell_type": "code",
   "execution_count": 3,
   "metadata": {},
   "outputs": [],
   "source": [
    "## Transform DataFrame to create a new column ('Total Income')\n",
    "class DataframeFunctionTransformer():\n",
    "    def __init__(self, func):\n",
    "        self.func = func\n",
    "    def transform(self, input_df, **transform_params):\n",
    "        return self.func(input_df)\n",
    "    def fit(self, X, y=None, **fit_params):\n",
    "       # print(X) # used this for testing\n",
    "        return self\n",
    "# this function takes a dataframe as input and\n",
    "# returns a modified version thereof\n",
    "def process_dataframe(input_df):\n",
    "    input_df[\"Total_Income\"] = input_df[\"ApplicantIncome\"]+input_df['CoapplicantIncome']\n",
    "    \n",
    "    return input_df\n"
   ]
  },
  {
   "cell_type": "code",
   "execution_count": 4,
   "metadata": {},
   "outputs": [],
   "source": [
    "class FeatureSelector:\n",
    "    def __init__(self, feats):\n",
    "        self.feats = feats\n",
    "\n",
    "    def fit(self, X, y=None):\n",
    "        pass\n",
    "\n",
    "\n",
    "    def transform(self, X, y=None):\n",
    "        return X[self.feats]\n",
    "\n",
    "    def fit_transform(self, X, y=None):\n",
    "        self.fit(X)\n",
    "        return self.transform(X)\n",
    "\n",
    "# features used for modeling, drop the Gender, Married, and add a new column 'total Income'\n",
    "feats=['Dependents',\n",
    " 'Education',\n",
    " 'Self_Employed',\n",
    "  \n",
    " 'LoanAmount',\n",
    " 'Loan_Amount_Term',\n",
    " 'Credit_History',\n",
    " 'Property_Area', 'Total_Income']"
   ]
  },
  {
   "cell_type": "code",
   "execution_count": 5,
   "metadata": {},
   "outputs": [],
   "source": [
    "num_transformer=Pipeline(steps=[('imputer', SimpleImputer(strategy='mean')), ('scaler', StandardScaler())])\n",
    "cat_transformer=Pipeline(steps=[('imputer', SimpleImputer(strategy='most_frequent')), ('encoder', OneHotEncoder())])"
   ]
  },
  {
   "cell_type": "code",
   "execution_count": 8,
   "metadata": {},
   "outputs": [],
   "source": [
    "preprocessor = ColumnTransformer(\n",
    "    transformers=[\n",
    "        ('num', num_transformer, ['LoanAmount', 'Loan_Amount_Term', 'Total_Income']),\n",
    "        ('cat', cat_transformer, ['Dependents', 'Education', 'Self_Employed', 'Credit_History', 'Property_Area'])])"
   ]
  },
  {
   "cell_type": "code",
   "execution_count": 9,
   "metadata": {},
   "outputs": [
    {
     "output_type": "stream",
     "name": "stdout",
     "text": [
      "0.8208092485549133\n"
     ]
    }
   ],
   "source": [
    "pipe2=Pipeline(steps=[('Dataframe', DataframeFunctionTransformer(process_dataframe)), ('features',FeatureSelector(feats)), ('preprocessing', preprocessor), ('feature_selection', SelectKBest(k=5)),('model', RandomForestClassifier())])\n",
    "pipe2.fit(X_train, y_train)\n",
    "y_cfc=pipe2.predict(X_test)\n",
    "print(metrics.f1_score(y_test, y_cfc))"
   ]
  },
  {
   "cell_type": "code",
   "execution_count": 11,
   "metadata": {},
   "outputs": [
    {
     "output_type": "stream",
     "name": "stdout",
     "text": [
      "The RandomForest has the precision score and recall score of 0.7717391304347826, 0.8765432098765432\n"
     ]
    }
   ],
   "source": [
    "y_cfc=pipe2.predict(X_test)\n",
    "print(f'The RandomForest has the precision score and recall score of {metrics.precision_score(y_test, y_cfc)}, {metrics.recall_score(y_test, y_cfc)}')\n"
   ]
  },
  {
   "cell_type": "code",
   "execution_count": 13,
   "metadata": {},
   "outputs": [
    {
     "output_type": "stream",
     "name": "stdout",
     "text": [
      "KNeighborsClassifier(n_neighbors=3)\n",
      "model score: 0.699\n",
      "SVC(C=0.025, probability=True)\n",
      "model score: 0.659\n",
      "DecisionTreeClassifier()\n",
      "model score: 0.675\n",
      "RandomForestClassifier()\n",
      "model score: 0.748\n",
      "GradientBoostingClassifier()\n",
      "model score: 0.724\n"
     ]
    }
   ],
   "source": [
    "from sklearn.metrics import accuracy_score, log_loss\n",
    "from sklearn.neighbors import KNeighborsClassifier\n",
    "from sklearn.svm import SVC, LinearSVC\n",
    "from sklearn.tree import DecisionTreeClassifier\n",
    "from sklearn.ensemble import RandomForestClassifier,GradientBoostingClassifier\n",
    "from sklearn.discriminant_analysis import LinearDiscriminantAnalysis\n",
    "\n",
    "\n",
    "classifiers = [KNeighborsClassifier(3), SVC(kernel=\"rbf\", C=0.025, probability=True),  DecisionTreeClassifier(), RandomForestClassifier(),GradientBoostingClassifier()]\n",
    "\n",
    "for classifier in classifiers:\n",
    "    pipe = Pipeline(steps=[('Dataframe', DataframeFunctionTransformer(process_dataframe)), ('features',FeatureSelector(feats)), ('preprocessing',               preprocessor), ('feature_selection', SelectKBest(k=5)), ('classifier', classifier)])\n",
    "    pipe.fit(X_train, y_train)   \n",
    "    print(classifier)\n",
    "    print(\"model score: %.3f\" % pipe.score(X_test, y_test))\n",
    "    "
   ]
  },
  {
   "cell_type": "code",
   "execution_count": 16,
   "metadata": {},
   "outputs": [
    {
     "output_type": "stream",
     "name": "stdout",
     "text": [
      "0.7723577235772358\n{'feature_selection__k': 3, 'model__max_depth': 3}\n The GridSearch for RandomForest has the precision score and recall score of 0.7523809523809524, 0.9753086419753086\n"
     ]
    }
   ],
   "source": [
    "rfc_pipe= Pipeline(steps=[('Dataframe', DataframeFunctionTransformer(process_dataframe)),\n",
    " ('features',FeatureSelector(feats)), ('preprocessing', preprocessor), ('feature_selection', SelectKBest()),('model', RandomForestClassifier())])\n",
    "params={'feature_selection__k':[3,4,5,6], 'model__max_depth':[3,4,5,6]}\n",
    "rfc_GS=GridSearchCV(rfc_pipe, param_grid=params)\n",
    "rfc_GS.fit(X_train, y_train)\n",
    "y_gs=rfc_GS.predict(X_test)\n",
    "print(rfc_GS.score(X_test, y_test))\n",
    "print(rfc_GS.best_params_)\n",
    "print(f' The GridSearch for RandomForest has the precision score and recall score of {metrics.precision_score(y_test, y_gs)}, {metrics.recall_score(y_test, y_gs)}')\n"
   ]
  },
  {
   "cell_type": "code",
   "execution_count": 17,
   "metadata": {},
   "outputs": [],
   "source": [
    "import pickle\n",
    "pickle.dump(pipe2,open('pipe2.pkl','wb'))"
   ]
  },
  {
   "cell_type": "code",
   "execution_count": null,
   "metadata": {},
   "outputs": [],
   "source": []
  }
 ]
}